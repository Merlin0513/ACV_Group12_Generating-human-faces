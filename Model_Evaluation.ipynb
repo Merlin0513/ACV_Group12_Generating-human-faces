{
  "nbformat": 4,
  "nbformat_minor": 0,
  "metadata": {
    "colab": {
      "provenance": []
    },
    "kernelspec": {
      "name": "python3",
      "display_name": "Python 3"
    },
    "language_info": {
      "name": "python"
    },
    "accelerator": "GPU",
    "gpuClass": "standard"
  },
  "cells": [
    {
      "cell_type": "code",
      "execution_count": null,
      "metadata": {
        "colab": {
          "base_uri": "https://localhost:8080/"
        },
        "id": "9iLWuyh1dezj",
        "outputId": "457f20c5-3bdc-4708-9fd0-06ea9eaf45d9"
      },
      "outputs": [
        {
          "output_type": "stream",
          "name": "stdout",
          "text": [
            "Looking in indexes: https://pypi.org/simple, https://us-python.pkg.dev/colab-wheels/public/simple/\n",
            "Collecting pytorch-fid\n",
            "  Downloading pytorch_fid-0.3.0-py3-none-any.whl (15 kB)\n",
            "Requirement already satisfied: numpy in /usr/local/lib/python3.9/dist-packages (from pytorch-fid) (1.22.4)\n",
            "Requirement already satisfied: pillow in /usr/local/lib/python3.9/dist-packages (from pytorch-fid) (8.4.0)\n",
            "Requirement already satisfied: torchvision>=0.2.2 in /usr/local/lib/python3.9/dist-packages (from pytorch-fid) (0.15.1+cu118)\n",
            "Requirement already satisfied: torch>=1.0.1 in /usr/local/lib/python3.9/dist-packages (from pytorch-fid) (2.0.0+cu118)\n",
            "Requirement already satisfied: scipy in /usr/local/lib/python3.9/dist-packages (from pytorch-fid) (1.10.1)\n",
            "Requirement already satisfied: filelock in /usr/local/lib/python3.9/dist-packages (from torch>=1.0.1->pytorch-fid) (3.12.0)\n",
            "Requirement already satisfied: networkx in /usr/local/lib/python3.9/dist-packages (from torch>=1.0.1->pytorch-fid) (3.1)\n",
            "Requirement already satisfied: typing-extensions in /usr/local/lib/python3.9/dist-packages (from torch>=1.0.1->pytorch-fid) (4.5.0)\n",
            "Requirement already satisfied: jinja2 in /usr/local/lib/python3.9/dist-packages (from torch>=1.0.1->pytorch-fid) (3.1.2)\n",
            "Requirement already satisfied: sympy in /usr/local/lib/python3.9/dist-packages (from torch>=1.0.1->pytorch-fid) (1.11.1)\n",
            "Requirement already satisfied: triton==2.0.0 in /usr/local/lib/python3.9/dist-packages (from torch>=1.0.1->pytorch-fid) (2.0.0)\n",
            "Requirement already satisfied: lit in /usr/local/lib/python3.9/dist-packages (from triton==2.0.0->torch>=1.0.1->pytorch-fid) (16.0.2)\n",
            "Requirement already satisfied: cmake in /usr/local/lib/python3.9/dist-packages (from triton==2.0.0->torch>=1.0.1->pytorch-fid) (3.25.2)\n",
            "Requirement already satisfied: requests in /usr/local/lib/python3.9/dist-packages (from torchvision>=0.2.2->pytorch-fid) (2.27.1)\n",
            "Requirement already satisfied: MarkupSafe>=2.0 in /usr/local/lib/python3.9/dist-packages (from jinja2->torch>=1.0.1->pytorch-fid) (2.1.2)\n",
            "Requirement already satisfied: urllib3<1.27,>=1.21.1 in /usr/local/lib/python3.9/dist-packages (from requests->torchvision>=0.2.2->pytorch-fid) (1.26.15)\n",
            "Requirement already satisfied: certifi>=2017.4.17 in /usr/local/lib/python3.9/dist-packages (from requests->torchvision>=0.2.2->pytorch-fid) (2022.12.7)\n",
            "Requirement already satisfied: charset-normalizer~=2.0.0 in /usr/local/lib/python3.9/dist-packages (from requests->torchvision>=0.2.2->pytorch-fid) (2.0.12)\n",
            "Requirement already satisfied: idna<4,>=2.5 in /usr/local/lib/python3.9/dist-packages (from requests->torchvision>=0.2.2->pytorch-fid) (3.4)\n",
            "Requirement already satisfied: mpmath>=0.19 in /usr/local/lib/python3.9/dist-packages (from sympy->torch>=1.0.1->pytorch-fid) (1.3.0)\n",
            "Installing collected packages: pytorch-fid\n",
            "Successfully installed pytorch-fid-0.3.0\n"
          ]
        }
      ],
      "source": [
        "!pip install pytorch-fid"
      ]
    },
    {
      "cell_type": "code",
      "source": [
        "# Compress the original photo to image 128 * 128\n",
        "import os\n",
        "import glob\n",
        "from PIL import Image\n",
        "\n",
        "# Open the input image, all the PNG image in the 'input_folder' \n",
        "# To do: Replace 'input_folder' to your folder path\n",
        "file_list = glob.glob(os.path.join('/content/drive/MyDrive/SRfaces-model-2', \"*.png\"))\n",
        "for file_path in file_list:\n",
        "    input_image = Image.open(file_path)\n",
        "    \n",
        "    # To do: Resize the image to 128*128 pixels\n",
        "    output_image = input_image.resize((128, 128))\n",
        "    \n",
        "    # Get the base file name\n",
        "    file_name = os.path.basename(file_path)\n",
        "\n",
        "    # Save the resized image with the name in output folder\n",
        "    # To do: Replace 'output_folder' to your folder path\n",
        "    output_image.save(os.path.join('/content/drive/MyDrive/SR_resized', file_name))"
      ],
      "metadata": {
        "id": "ZLT9vlDcnoKj"
      },
      "execution_count": null,
      "outputs": []
    },
    {
      "cell_type": "code",
      "source": [
        "!python -m pytorch_fid /content/drive/MyDrive/celeba_resized /content/drive/MyDrive/SR_resized --device cuda:0"
      ],
      "metadata": {
        "colab": {
          "base_uri": "https://localhost:8080/"
        },
        "id": "v_sh8AH8d2UY",
        "outputId": "7ccb79f2-20ca-455f-ac49-a9210894679a"
      },
      "execution_count": null,
      "outputs": [
        {
          "output_type": "stream",
          "name": "stdout",
          "text": [
            "100% 72/72 [00:17<00:00,  4.21it/s]\n",
            "100% 16/16 [00:03<00:00,  4.20it/s]\n",
            "FID:  54.129411371752525\n"
          ]
        }
      ]
    },
    {
      "cell_type": "code",
      "source": [],
      "metadata": {
        "id": "KAhPC1FCtF9s"
      },
      "execution_count": null,
      "outputs": []
    }
  ]
}